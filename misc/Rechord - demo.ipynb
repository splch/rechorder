{
 "cells": [
  {
   "cell_type": "markdown",
   "metadata": {},
   "source": [
    "# Rechorder\n",
    "\n",
    "## Automatic sheet music composition"
   ]
  },
  {
   "cell_type": "markdown",
   "metadata": {},
   "source": [
    "Import libraries:\n",
    "pip install numpy pyaudio scipy music21"
   ]
  },
  {
   "cell_type": "code",
   "execution_count": 1,
   "metadata": {},
   "outputs": [],
   "source": [
    "from datetime import date\n",
    "import struct\n",
    "import numpy as np\n",
    "from scipy.fftpack import fft\n",
    "import pyaudio\n",
    "import music21 # install musescore\n",
    "from music21 import environment\n",
    "us = environment.UserSettings()\n",
    "us['musescoreDirectPNGPath'] = '/usr/bin/musescore'"
   ]
  },
  {
   "cell_type": "markdown",
   "metadata": {},
   "source": [
    "### Functions"
   ]
  },
  {
   "cell_type": "code",
   "execution_count": 2,
   "metadata": {},
   "outputs": [],
   "source": [
    "def input_stream(key, hz, notes):\n",
    "    note = scale[(key - 1) % 12] + str((key+8) // 12) # note as string\n",
    "    print(note, '\\t', int(hz))\n",
    "\n",
    "    return note"
   ]
  },
  {
   "cell_type": "code",
   "execution_count": 3,
   "metadata": {},
   "outputs": [],
   "source": [
    "def display(music):\n",
    "    s = music21.stream.Score()\n",
    "    s.insert(0, music21.metadata.Metadata())\n",
    "    s.metadata.title = \"title\"\n",
    "    day = date.today()\n",
    "    s.metadata.date = f\"{day.year}/{day.month}/{day.day}\"\n",
    "    s.metadata.composer = \"composer\"\n",
    "    \n",
    "    for n in music:\n",
    "        if n[0] == 'R':\n",
    "            s.append(music21.stream.note.Rest(n[n.index('-')+1:]))\n",
    "        else:\n",
    "            s.append(music21.note.Note(n[:n.index('-')], type=types[n[n.index('-')+1:]]))\n",
    "    \n",
    "    try:\n",
    "        s.show()\n",
    "    except:\n",
    "        s.show(\"text\")\n",
    "    return None"
   ]
  },
  {
   "cell_type": "markdown",
   "metadata": {},
   "source": [
    "Transpose notes to sheet music using music21"
   ]
  },
  {
   "cell_type": "code",
   "execution_count": 4,
   "metadata": {},
   "outputs": [],
   "source": [
    "def transcribe(notes):\n",
    "    music = []\n",
    "    nps = 12 # in 1 second, the program records 12 notes\n",
    "    i = 0\n",
    "    j = 1\n",
    "    \n",
    "    while i < len(notes): # optimize loop\n",
    "        try:\n",
    "            if notes[i] == notes[j]:\n",
    "                j += 1\n",
    "            else:\n",
    "                dur = str(min([1,2,4,8,16,32], key=lambda x:abs(x-(round(1 / (j - i) * nps)))))\n",
    "                music.append(notes[i] + '-' + dur)\n",
    "                i = j\n",
    "                j += 1 # slightly faster\n",
    "        except IndexError:\n",
    "            dur = str(min([1,2,4,8,16,32,64], key=lambda x:abs(x-(round(1 / (j - i) * nps))))) # can this cause div 0 error?\n",
    "            music.append(notes[i] + '-' + dur)\n",
    "            i = j + 1\n",
    "    \n",
    "    display(music)\n",
    "    return None"
   ]
  },
  {
   "cell_type": "markdown",
   "metadata": {},
   "source": [
    "Convert frequencies to keys"
   ]
  },
  {
   "cell_type": "code",
   "execution_count": 5,
   "metadata": {},
   "outputs": [],
   "source": [
    "def conv(fs):\n",
    "    fs_max = -np.sort(-fs)\n",
    "\n",
    "    key = None\n",
    "    i = 0\n",
    "    while not key:\n",
    "        i += 1\n",
    "        hz = round((np.where(fs == fs_max[i])[0][0]) * RATE / CHUNK) # convert FFT to hz\n",
    "        note = int(round(12 * np.log2(hz/440) + 49)) # hz to note on piano\n",
    "        if note > 0 and note < 109:\n",
    "            key = note\n",
    "\n",
    "    return key, hz"
   ]
  },
  {
   "cell_type": "markdown",
   "metadata": {},
   "source": [
    "Audio input stream function"
   ]
  },
  {
   "cell_type": "code",
   "execution_count": 6,
   "metadata": {},
   "outputs": [],
   "source": [
    "def record(rests = True):\n",
    "    # stream object\n",
    "    p = pyaudio.PyAudio()\n",
    "    stream = p.open(\n",
    "        format=FORMAT,\n",
    "        channels=CHANNELS,\n",
    "        rate=RATE,\n",
    "        input=True,\n",
    "        output=True,\n",
    "        frames_per_buffer=CHUNK,\n",
    "    )\n",
    "    \n",
    "    print(\"\\nstarted recording...\\n\")\n",
    "    notes = ['R']\n",
    "    try:\n",
    "        while True:\n",
    "            data = stream.read(CHUNK, exception_on_overflow=False)\n",
    "            data_int = struct.unpack(str(2 * CHUNK) + 'B', data)\n",
    "            data_np = np.array(data_int, dtype='b')[::2] + 128\n",
    "            if np.percentile(np.abs(data_np), 90) >= 200: # check volume if a note is being played\n",
    "                # compute FFT and update line\n",
    "                fs = np.abs(fft(data_int)[0:CHUNK])\n",
    "                key, hz = conv(fs) # convert most common frequencies\n",
    "                notes.append(input_stream(key, hz, notes))\n",
    "            elif rests and len(notes) > 1:\n",
    "                notes.append('R')\n",
    "\n",
    "    except KeyboardInterrupt:\n",
    "        p.close(stream)\n",
    "        print(\"\\n\\nended recording\\n\")\n",
    "\n",
    "    return notes"
   ]
  },
  {
   "cell_type": "markdown",
   "metadata": {},
   "source": [
    "Define variable constants"
   ]
  },
  {
   "cell_type": "code",
   "execution_count": 7,
   "metadata": {},
   "outputs": [],
   "source": [
    "# stream constants\n",
    "CHUNK = 1024 * 2\n",
    "FORMAT = pyaudio.paInt16\n",
    "CHANNELS = 1\n",
    "RATE = 22050\n",
    "\n",
    "scale = ['A', \"A#\", 'B', 'C', \"C#\", 'D', \"D#\", 'E', 'F', \"F#\", 'G', \"G#\"]\n",
    "types = {'1': \"whole\", '2': \"half\", '4': \"quarter\", '8': \"eighth\", '16': \"sixteenth\"}"
   ]
  },
  {
   "cell_type": "markdown",
   "metadata": {},
   "source": [
    "### Conversion program"
   ]
  },
  {
   "cell_type": "markdown",
   "metadata": {},
   "source": [
    "Record audio and transcribe frequencies to sheet music"
   ]
  },
  {
   "cell_type": "code",
   "execution_count": 8,
   "metadata": {},
   "outputs": [
    {
     "name": "stdout",
     "output_type": "stream",
     "text": [
      "\n",
      "started recording...\n",
      "\n",
      "C#3 \t 140\n",
      "G2 \t 97\n",
      "A#2 \t 118\n",
      "C#3 \t 140\n",
      "\n",
      "\n",
      "ended recording\n",
      "\n"
     ]
    }
   ],
   "source": [
    "notes = record(rests=False) # interrupt to end stream"
   ]
  },
  {
   "cell_type": "code",
   "execution_count": 9,
   "metadata": {},
   "outputs": [
    {
     "data": {
      "image/png": "[encoded data removed]",
      "text/plain": [
       "<IPython.core.display.Image object>"
      ]
     },
     "metadata": {
      "image/png": {
       "height": 151,
       "width": 748
      }
     },
     "output_type": "display_data"
    }
   ],
   "source": [
    "transcribe(notes)"
   ]
  }
 ],
 "metadata": {
  "kernelspec": {
   "display_name": "Python 3 (ipykernel)",
   "language": "python",
   "name": "python3"
  },
  "language_info": {
   "codemirror_mode": {
    "name": "ipython",
    "version": 3
   },
   "file_extension": ".py",
   "mimetype": "text/x-python",
   "name": "python",
   "nbconvert_exporter": "python",
   "pygments_lexer": "ipython3",
   "version": "3.9.5"
  }
 },
 "nbformat": 4,
 "nbformat_minor": 2
}
