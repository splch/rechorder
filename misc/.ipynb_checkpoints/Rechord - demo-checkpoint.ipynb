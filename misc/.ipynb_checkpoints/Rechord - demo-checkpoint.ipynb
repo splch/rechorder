{
 "cells": [
  {
   "cell_type": "markdown",
   "metadata": {},
   "source": [
    "# Rechorder\n",
    "\n",
    "## Automatic sheet music composition"
   ]
  },
  {
   "cell_type": "code",
   "execution_count": 4,
   "metadata": {},
   "outputs": [],
   "source": [
    "from sys import platform\n",
    "import struct\n",
    "import numpy as np\n",
    "from scipy.fftpack import fft\n",
    "import pyaudio\n",
    "import music21 # install musescore\n",
    "\n",
    "import warnings\n",
    "warnings.filterwarnings('ignore')"
   ]
  },
  {
   "cell_type": "code",
   "execution_count": 5,
   "metadata": {},
   "outputs": [],
   "source": [
    "class Rechorder():\n",
    "    def __init__(self, title='title', date='1970/01/01', composer='composer'):\n",
    "        self.title    = title\n",
    "        self.date     = date\n",
    "        self.composer = composer\n",
    "        \n",
    "        # stream constants\n",
    "        self.FORMAT   = pyaudio.paInt16\n",
    "        self.CHANNELS = 1\n",
    "        self.RATE     = 22050\n",
    "        self.CHUNK    = 1024 * 2\n",
    "\n",
    "        self.scale = ['A', \"A#\", 'B', 'C', \"C#\", 'D', \"D#\", 'E', 'F', \"F#\", 'G', \"G#\"]\n",
    "        self.types = {'1': \"whole\", '2': \"half\", '4': \"quarter\", '8': \"eighth\", '16': \"sixteenth\"}\n",
    "        \n",
    "        us = music21.environment.UserSettings()\n",
    "        if not us['musescoreDirectPNGPath']:\n",
    "            if platform == 'linux':\n",
    "                us['musescoreDirectPNGPath'] = '/usr/bin/musescore'\n",
    "            elif platform == 'darwin':\n",
    "                us['musescoreDirectPNGPath'] = '/Applications/MuseScore.app/Contents/MacOS/mscore'\n",
    "            elif platform == 'win32':\n",
    "                us['musescoreDirectPNGPath'] = 'C:/Program Files (x86)/MuseScore 2/bin/MuseScore.exe'\n",
    "\n",
    "    def key_to_note(self, key):\n",
    "        note = self.scale[(key - 1) % 12] + str((key + 8) // 12)\n",
    "        print(note)\n",
    "        return note\n",
    "\n",
    "    def freqs_to_key(self, fs):\n",
    "        fs_max = -np.sort(-fs)\n",
    "        key    = None\n",
    "        i      = 0\n",
    "        \n",
    "        while not key:\n",
    "            i += 1\n",
    "            hz   = round((np.where(fs == fs_max[i])[0][0]) * self.RATE / self.CHUNK) # convert FFT to hz\n",
    "            note = int(round(12 * np.log2(hz/440) + 49)) # hz to note\n",
    "            if note > 0 and note < 109:\n",
    "                key = note\n",
    "        \n",
    "        return key, hz\n",
    "\n",
    "    def transcribe(self):\n",
    "        self.music = []\n",
    "        nps        = 12 # in 1 second, the program records 12 notes\n",
    "        i          = 0\n",
    "        j          = 1\n",
    "        \n",
    "        while i < len(self.notes): # optimize loop\n",
    "            try:\n",
    "                if self.notes[i] == self.notes[j]:\n",
    "                    j += 1\n",
    "                else:\n",
    "                    dur = str(min([1,2,4,8,16,32], key=lambda x:abs(x-(round(1 / (j - i) * nps)))))\n",
    "                    self.music.append(self.notes[i] + '-' + dur)\n",
    "                    i = j\n",
    "                    j += 1 # slightly faster\n",
    "            except IndexError:\n",
    "                dur = str(min([1,2,4,8,16,32,64], key=lambda x:abs(x-(round(1 / (j - i) * nps))))) # can this cause div 0 error?\n",
    "                self.music.append(self.notes[i] + '-' + dur)\n",
    "                i = j + 1\n",
    "        \n",
    "        self.display()\n",
    "\n",
    "    def display(self):\n",
    "        s = music21.stream.Score()\n",
    "        s.insert(0, music21.metadata.Metadata())\n",
    "        s.metadata.title    = self.title\n",
    "        s.metadata.date     = self.date\n",
    "        s.metadata.composer = self.composer\n",
    "        \n",
    "        for n in self.music:\n",
    "            if n[0] == 'R':\n",
    "                s.append(music21.stream.note.Rest(n[n.index('-')+1:]))\n",
    "            else:\n",
    "                s.append(music21.note.Note(n[:n.index('-')], type=self.types[n[n.index('-')+1:]]))\n",
    "        \n",
    "        s.show()\n",
    "\n",
    "    def record(self, rests = True):\n",
    "        # stream object\n",
    "        p = pyaudio.PyAudio()\n",
    "        stream = p.open(\n",
    "            format=self.FORMAT,\n",
    "            channels=self.CHANNELS,\n",
    "            rate=self.RATE,\n",
    "            input=True,\n",
    "            output=True,\n",
    "            frames_per_buffer=self.CHUNK,\n",
    "        )\n",
    "        \n",
    "        print(\"\\nstarted recording...\\n\")\n",
    "        notes = ['R']\n",
    "        try:\n",
    "            while True:\n",
    "                data = stream.read(self.CHUNK, exception_on_overflow=False)\n",
    "                data_int = struct.unpack(str(2 * self.CHUNK) + 'B', data)\n",
    "                data_np = np.array(data_int, dtype='b')[::2] + 128\n",
    "                if np.percentile(np.abs(data_np), 90) >= 200: # check volume if a note is being played\n",
    "                    # compute FFT and update line\n",
    "                    fs = np.abs(fft(data_int)[0:self.CHUNK])\n",
    "                    key, hz = self.freqs_to_key(fs) # convert most common frequencies\n",
    "                    notes.append(self.key_to_note(key))\n",
    "                elif rests and len(notes) > 1:\n",
    "                    notes.append('R')\n",
    "        except KeyboardInterrupt:\n",
    "            p.close(stream)\n",
    "            print(\"\\n\\nended recording\\n\")\n",
    "        \n",
    "        self.notes = notes[1:]\n",
    "        self.transcribe()"
   ]
  },
  {
   "cell_type": "code",
   "execution_count": 6,
   "metadata": {
    "scrolled": false
   },
   "outputs": [
    {
     "name": "stdout",
     "output_type": "stream",
     "text": [
      "\n",
      "started recording...\n",
      "\n",
      "\n",
      "\n",
      "ended recording\n",
      "\n"
     ]
    },
    {
     "name": "stderr",
     "output_type": "stream",
     "text": [
      "initScoreFonts 0x55caa96fb090\n",
      "libpng warning: iCCP: known incorrect sRGB profile\n",
      "Error at line 30 col 47: no instrument found for part 'P0ff71eae822dcb71db56f42aaf741d7c'\n",
      "convert </tmp/music21/tmpzkh6ydjr.xml>...\n",
      "\tto </tmp/music21/tmpzkh6ydjr.png>\n",
      "... success!\n"
     ]
    },
    {
     "data": {
      "image/png": "[encoded data removed]",
      "text/plain": [
       "<IPython.core.display.Image object>"
      ]
     },
     "metadata": {
      "image/png": {
       "height": 155,
       "width": 748
      }
     },
     "output_type": "display_data"
    }
   ],
   "source": [
    "r = Rechorder()\n",
    "r.record(rests=False)"
   ]
  }
 ],
 "metadata": {
  "kernelspec": {
   "display_name": "Python 3 (ipykernel)",
   "language": "python",
   "name": "python3"
  },
  "language_info": {
   "codemirror_mode": {
    "name": "ipython",
    "version": 3
   },
   "file_extension": ".py",
   "mimetype": "text/x-python",
   "name": "python",
   "nbconvert_exporter": "python",
   "pygments_lexer": "ipython3",
   "version": "3.9.5"
  }
 },
 "nbformat": 4,
 "nbformat_minor": 2
}
